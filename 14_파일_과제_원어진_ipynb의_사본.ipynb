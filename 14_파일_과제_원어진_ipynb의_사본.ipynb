{
  "cells": [
    {
      "cell_type": "markdown",
      "metadata": {
        "id": "4WhzzP2-WyHg"
      },
      "source": [
        "# (실습) 파일"
      ]
    },
    {
      "cell_type": "markdown",
      "metadata": {
        "id": "qcxfCUQJWyHt"
      },
      "source": [
        "**기본 설정**"
      ]
    },
    {
      "cell_type": "markdown",
      "metadata": {
        "id": "qDkntImuWyHv"
      },
      "source": [
        "파일 저장 경로와 파일 서버 주소를 지정에 필요한 기본 설정을 지정한다."
      ]
    },
    {
      "cell_type": "code",
      "execution_count": null,
      "metadata": {
        "id": "qGNcPJtJWyHw"
      },
      "outputs": [],
      "source": [
        "from pathlib import Path\n",
        "from urllib.request import urlretrieve"
      ]
    },
    {
      "cell_type": "code",
      "source": [
        "from google.colab import drive\n",
        "drive.mount('/content/drive')"
      ],
      "metadata": {
        "colab": {
          "base_uri": "https://localhost:8080/"
        },
        "id": "3C8DAV36lnl4",
        "outputId": "e9a7cf99-6be5-4c58-d5ba-1a5bfa1a6875"
      },
      "execution_count": null,
      "outputs": [
        {
          "output_type": "stream",
          "name": "stdout",
          "text": [
            "Drive already mounted at /content/drive; to attempt to forcibly remount, call drive.mount(\"/content/drive\", force_remount=True).\n"
          ]
        }
      ]
    },
    {
      "cell_type": "markdown",
      "metadata": {
        "id": "5NM2FN79WyHy"
      },
      "source": [
        "데이터가 저장된 텍스트 파일 서버 주소는 다음과 같다."
      ]
    },
    {
      "cell_type": "code",
      "execution_count": null,
      "metadata": {
        "id": "nPtrSlKeWyH0"
      },
      "outputs": [],
      "source": [
        "base_url = \"https://raw.githubusercontent.com/codingalzi/pybook/master/jupyter-book/data/\""
      ]
    },
    {
      "cell_type": "markdown",
      "metadata": {
        "id": "Nki42ITjWyH1"
      },
      "source": [
        "현재 작업 디렉토리의 `data` 하위 디렉토리에 파일을 다운로드해서 저장할 준비를 한다."
      ]
    },
    {
      "cell_type": "code",
      "execution_count": null,
      "metadata": {
        "id": "vw7AFgd2WyH2"
      },
      "outputs": [],
      "source": [
        "# 저장위치 지정과 생성\n",
        "data_path = Path() / \"data\"\n",
        "data_path.mkdir(parents=True, exist_ok=True)"
      ]
    },
    {
      "cell_type": "markdown",
      "source": [],
      "metadata": {
        "id": "cTQF75jBY793"
      }
    },
    {
      "cell_type": "markdown",
      "metadata": {
        "id": "LKN3498RWyH4"
      },
      "source": [
        "`myWget()` 함수는 파일 서버에서 지정된 파일을 동일한 파일명으로 지정된 디렉토리에 저장한다."
      ]
    },
    {
      "cell_type": "code",
      "execution_count": null,
      "metadata": {
        "id": "qECRriv-WyH5"
      },
      "outputs": [],
      "source": [
        "def myWget(filename):\n",
        "    # 다운로드 대상 파일 경로\n",
        "    file_url = base_url + filename\n",
        "\n",
        "    # 저장 경로와 파일명\n",
        "    target_path = data_path / filename\n",
        "\n",
        "    return urlretrieve(file_url, target_path)"
      ]
    },
    {
      "cell_type": "code",
      "source": [
        "myWget('shopA.txt')"
      ],
      "metadata": {
        "id": "TqjvkeH82kV7",
        "colab": {
          "base_uri": "https://localhost:8080/"
        },
        "outputId": "c9f3c23e-8896-4962-ba8f-a3a58b4481ed"
      },
      "execution_count": null,
      "outputs": [
        {
          "output_type": "execute_result",
          "data": {
            "text/plain": [
              "(PosixPath('data/shopA.txt'), <http.client.HTTPMessage at 0x7f7aef5ea770>)"
            ]
          },
          "metadata": {},
          "execution_count": 5
        }
      ]
    },
    {
      "cell_type": "markdown",
      "metadata": {
        "id": "k208KW3sWyH7"
      },
      "source": [
        "**쇼핑몰 파일 관련**"
      ]
    },
    {
      "cell_type": "markdown",
      "metadata": {
        "id": "6K0MnhW6WyH8"
      },
      "source": [
        "**문제 1**"
      ]
    },
    {
      "cell_type": "markdown",
      "metadata": {
        "id": "gSF_tBKvfg9V"
      },
      "source": [
        "`shopA.txt` 파일은 쇼핑몰A에서 판매하는 상품의 가격을 담고 있음을 확인해보자.\n",
        "먼저 해당 파일을 다운로드 한다."
      ]
    },
    {
      "cell_type": "code",
      "execution_count": null,
      "metadata": {
        "id": "wKcpp2S7WyH-",
        "outputId": "a71c2447-eafe-4d03-e8b8-32335087dbd3",
        "colab": {
          "base_uri": "https://localhost:8080/"
        }
      },
      "outputs": [
        {
          "output_type": "execute_result",
          "data": {
            "text/plain": [
              "(PosixPath('data/shopA.txt'), <http.client.HTTPMessage at 0x7f7aef5eab30>)"
            ]
          },
          "metadata": {},
          "execution_count": 6
        }
      ],
      "source": [
        "myWget(\"shopA.txt\")"
      ]
    },
    {
      "cell_type": "code",
      "source": [
        "target_path_shopA = data_path / \"shopA.txt\" #target_path_shopA는 \n",
        "#data_path가 가리키는 경로.즉,\"data\"의 경로에 하위 디렉토리에 \"shopA.txt.\" 파일을 추가함"
      ],
      "metadata": {
        "id": "Pt6pXDG0vg-z"
      },
      "execution_count": null,
      "outputs": []
    },
    {
      "cell_type": "code",
      "source": [
        "print(data_path)          #data_path가 가리키는 경로\n",
        "print(target_path_shopA)  #target_path_shopA가 가리키는 경로"
      ],
      "metadata": {
        "colab": {
          "base_uri": "https://localhost:8080/"
        },
        "id": "hHx7lylEw-IK",
        "outputId": "e4d38239-e968-47d8-df76-1cc111785b5e"
      },
      "execution_count": null,
      "outputs": [
        {
          "output_type": "stream",
          "name": "stdout",
          "text": [
            "data\n",
            "data/shopA.txt\n"
          ]
        }
      ]
    },
    {
      "cell_type": "markdown",
      "metadata": {
        "id": "Wqz2ocafWyH_"
      },
      "source": [
        "이제 파일 전체 내용을 출력하는 코드를 작성하라.\n",
        "\n",
        "힌트: `with-as` 명령문, `open()` 함수, `readlines()` 또는 `read()` 파일 메서드."
      ]
    },
    {
      "cell_type": "code",
      "execution_count": null,
      "metadata": {
        "id": "fDz2VUsqWyIA",
        "colab": {
          "base_uri": "https://localhost:8080/"
        },
        "outputId": "0e7a997f-5249-4a49-a7f9-8b667ae0b5aa"
      },
      "outputs": [
        {
          "output_type": "stream",
          "name": "stdout",
          "text": [
            "#쇼핑몰 A\n",
            "\n",
            "우유 2540원\n",
            "계란 7480원\n",
            "생수 980원\n",
            "짜장라면 3220원\n",
            "두부 1450원\n",
            "콩나물 1680원\n",
            "김 5480원\n",
            "닭고기 5980원\n",
            "식빵 2480원\n",
            "바나나 4980원\n",
            "오레ㄴ지 990원\n",
            "카레 2480원\n",
            "만두 6980원\n",
            "어묵 7980원\n",
            "참치 11880원\n",
            "김치 7980원\n",
            "간장 10800원\n"
          ]
        }
      ],
      "source": [
        "# 코드를 작성하세요.\n",
        "with target_path_shopA.open(mode = 'r' , encoding = 'utf-8') as f: \n",
        "  # target_path_shopA가 가리키는 파일을 오픈하고, 할 일을 다하면 자동 닫기 처리.\n",
        "  for line in f:\n",
        "    print(line.strip()) #line 대신 line.strip()을 쓰면 공백없이 깔끔하게 출력 가능"
      ]
    },
    {
      "cell_type": "markdown",
      "metadata": {
        "id": "w86OM5AKF6-o"
      },
      "source": [
        "**문제 2**"
      ]
    },
    {
      "cell_type": "markdown",
      "metadata": {
        "id": "dVe6tYetAdhc"
      },
      "source": [
        "`shopA.txt` 파일의 내용을 확인하면, 오타가 있다. \n",
        "'오레ㄴ지' 를 '오렌지'로 변경한 후에\n",
        "`shopA.txt` 파일을 열어 오타가 수정되었는지를 확인하여라.  \n",
        "\n",
        "힌트: 파일의 `read()` 메서드, 문자열의 `replace()` 메서드"
      ]
    },
    {
      "cell_type": "markdown",
      "metadata": {
        "id": "eLAFL-K0WyIB"
      },
      "source": [
        "* 파일 읽기: `read()` 메서드 활용"
      ]
    },
    {
      "cell_type": "code",
      "execution_count": null,
      "metadata": {
        "id": "1fumQB4YWyIC",
        "colab": {
          "base_uri": "https://localhost:8080/"
        },
        "outputId": "5918a8a7-2f5b-4bfa-d0e5-b2fcad8a4bc7"
      },
      "outputs": [
        {
          "output_type": "stream",
          "name": "stdout",
          "text": [
            "#쇼핑몰 A\n",
            "\n",
            "우유 2540원\n",
            "계란 7480원\n",
            "생수 980원\n",
            "짜장라면 3220원\n",
            "두부 1450원\n",
            "콩나물 1680원\n",
            "김 5480원\n",
            "닭고기 5980원\n",
            "식빵 2480원\n",
            "바나나 4980원\n",
            "오레ㄴ지 990원\n",
            "카레 2480원\n",
            "만두 6980원\n",
            "어묵 7980원\n",
            "참치 11880원\n",
            "김치 7980원\n",
            "간장 10800원\n"
          ]
        }
      ],
      "source": [
        "# 파일내용을 하나의 문자열로 생성하는 코드를 작성하라.\n",
        "with target_path_shopA.open(mode = 'r' , encoding = 'utf-8') as f:\n",
        "  lines = f.read()    #파일 f의 내용 전체를 하나의 문자열로 불러옴\n",
        "print(lines)"
      ]
    },
    {
      "cell_type": "markdown",
      "metadata": {
        "id": "qiPYWNvlWyIC"
      },
      "source": [
        "* 오타 수정: `replace()` 문자열 메서드 활용"
      ]
    },
    {
      "cell_type": "code",
      "execution_count": null,
      "metadata": {
        "id": "9nzzf0c9WyIC",
        "colab": {
          "base_uri": "https://localhost:8080/",
          "height": 54
        },
        "outputId": "07d07f09-bdea-4ed4-9180-893981d99b34"
      },
      "outputs": [
        {
          "output_type": "execute_result",
          "data": {
            "text/plain": [
              "'#쇼핑몰 A\\n\\n우유 2540원\\n계란 7480원\\n생수 980원\\n짜장라면 3220원\\n두부 1450원\\n콩나물 1680원\\n김 5480원\\n닭고기 5980원\\n식빵 2480원\\n바나나 4980원\\n오렌지 990원\\n카레 2480원\\n만두 6980원\\n어묵 7980원\\n참치 11880원\\n김치 7980원\\n간장 10800원'"
            ],
            "application/vnd.google.colaboratory.intrinsic+json": {
              "type": "string"
            }
          },
          "metadata": {},
          "execution_count": 37
        }
      ],
      "source": [
        "# 오타를 수정하는 코드를 작성하라.\n",
        "\n",
        "with target_path_shopA.open(mode = 'r' , encoding = 'utf-8') as f:\n",
        "  lines = f.read().replace('오레ㄴ지' , '오렌지') \n",
        "  #앞으로 lines는 target_path_shopA파일의 오타를 수정한 문자열을 가리킴\n",
        "lines"
      ]
    },
    {
      "cell_type": "markdown",
      "metadata": {
        "id": "5G1WZOWnWyID"
      },
      "source": [
        "* 파일 저장"
      ]
    },
    {
      "cell_type": "code",
      "execution_count": null,
      "metadata": {
        "id": "hhxQFWIWWyIE"
      },
      "outputs": [],
      "source": [
        "# 오타가 수정된 문자열을 파일로 저장하는 코드를 작성하라.\n",
        "with target_path_shopA.open(mode = 'w' , encoding = 'utf-8') as f:\n",
        "  f.write(lines)"
      ]
    },
    {
      "cell_type": "markdown",
      "metadata": {
        "id": "lUEjue5UWyIF"
      },
      "source": [
        "* 파일 내용 확인"
      ]
    },
    {
      "cell_type": "code",
      "execution_count": null,
      "metadata": {
        "id": "Besm0ryPWyIF",
        "colab": {
          "base_uri": "https://localhost:8080/"
        },
        "outputId": "b1e65386-d2de-45c7-85a8-c0d41edd75c9"
      },
      "outputs": [
        {
          "output_type": "stream",
          "name": "stdout",
          "text": [
            "#쇼핑몰 A\n",
            "\n",
            "우유 2540원\n",
            "계란 7480원\n",
            "생수 980원\n",
            "짜장라면 3220원\n",
            "두부 1450원\n",
            "콩나물 1680원\n",
            "김 5480원\n",
            "닭고기 5980원\n",
            "식빵 2480원\n",
            "바나나 4980원\n",
            "오렌지 990원\n",
            "카레 2480원\n",
            "만두 6980원\n",
            "어묵 7980원\n",
            "참치 11880원\n",
            "김치 7980원\n",
            "간장 10800원\n"
          ]
        }
      ],
      "source": [
        "# 오타가 수정되었음을 확인하는 코드를 작성하라.\n",
        "with target_path_shopA.open(mode = 'r' , encoding = 'utf-8') as f:\n",
        "  for i in f:\n",
        "    print(i.strip())"
      ]
    },
    {
      "cell_type": "markdown",
      "metadata": {
        "id": "0uxzruvdWyIF"
      },
      "source": [
        "**문제 3**"
      ]
    },
    {
      "cell_type": "markdown",
      "metadata": {
        "id": "egoqIohm-4a8"
      },
      "source": [
        "상품명과 가격을 키-값의 쌍으로 갖는 아래 모양의 딕셔너리를 만들어라.\n",
        "단, 오타가 수정된 파일을 이용해야 한다.\n",
        "\n",
        "```python\n",
        "{'우유': 2540,\n",
        " '계란': 7480,\n",
        " '생수': 980,\n",
        " '짜장라면': 3220,\n",
        " '두부': 1450,\n",
        " '콩나물': 1680,\n",
        " '김': 5480,\n",
        " '닭고기': 5980,\n",
        " '식빵': 2480,\n",
        " '바나나': 4980,\n",
        " '오렌지': 990,\n",
        " '카레': 2480,\n",
        " '만두': 6980,\n",
        " '어묵': 7980,\n",
        " '참치': 11880,\n",
        " '김치': 7980,\n",
        " '간장': 10800}\n",
        "```"
      ]
    },
    {
      "cell_type": "code",
      "source": [
        "with target_path_shopA.open() as f:\n",
        "    results_shopA_dict = {}\n",
        "    for line in f:\n",
        "      if line.strip():\n",
        "        name, price = line.strip().split()\n",
        "        if price != '가격':\n",
        "            results_shopA_dict[name] = price\n",
        "\n",
        "for key in results_shopA_dict:  \n",
        "    if key != '#쇼핑몰':        #키값이 \"쇼핑몰\"이 아닐경우\n",
        "        results_shopA_dict[key] = int(results_shopA_dict[key].replace('원', ''))\n",
        "   #사전_shopA의 키가 가리키는 값은 , 앞으로 '원'을 빼고 정수형태로 바뀐 값을 가리킴\n",
        "del results_shopA_dict['#쇼핑몰']\n",
        "\n",
        "results_shopA_dict"
      ],
      "metadata": {
        "colab": {
          "base_uri": "https://localhost:8080/"
        },
        "id": "MsvpNw5Z-jN1",
        "outputId": "5f3eb527-0a48-4f76-ddc1-e27a3cd99e9f"
      },
      "execution_count": null,
      "outputs": [
        {
          "output_type": "execute_result",
          "data": {
            "text/plain": [
              "{'우유': 2540,\n",
              " '계란': 7480,\n",
              " '생수': 980,\n",
              " '짜장라면': 3220,\n",
              " '두부': 1450,\n",
              " '콩나물': 1680,\n",
              " '김': 5480,\n",
              " '닭고기': 5980,\n",
              " '식빵': 2480,\n",
              " '바나나': 4980,\n",
              " '오렌지': 990,\n",
              " '카레': 2480,\n",
              " '만두': 6980,\n",
              " '어묵': 7980,\n",
              " '참치': 11880,\n",
              " '김치': 7980,\n",
              " '간장': 10800}"
            ]
          },
          "metadata": {},
          "execution_count": 14
        }
      ]
    },
    {
      "cell_type": "markdown",
      "metadata": {
        "id": "agiH0quMBxIb"
      },
      "source": [
        "**문제 4** "
      ]
    },
    {
      "cell_type": "markdown",
      "metadata": {
        "id": "7wZ1G5blWyIG"
      },
      "source": [
        "`shopA.txt` 와 같이 상품명과 가격으로 이루어진 쇼핑 리스트가 포함된 파일의 이름을 입력받으면\n",
        "상품명과 가격을 각각 키와 값으로 갖는 사전 객체를 반환하는 함수 `shopping()` 을 구현하라.\n",
        "\n",
        "힌트: 문제 3을 해결하기 위해 작성한 코드를 이용한다."
      ]
    },
    {
      "cell_type": "code",
      "source": [
        "def myWget(filename):\n",
        "    # 다운로드 대상 파일 경로\n",
        "    file_url = base_url + filename\n",
        "\n",
        "    # 저장 경로와 파일명\n",
        "    target_path = data_path / filename\n",
        "\n",
        "    return urlretrieve(file_url, target_path)\n",
        "\n",
        "\n",
        "#기존 myWget함수다"
      ],
      "metadata": {
        "id": "dmynhDpIWTQq"
      },
      "execution_count": null,
      "outputs": []
    },
    {
      "cell_type": "code",
      "source": [
        "with target_path_shopA.open(mode = 'r' , encoding = 'utf-8') as f:\n",
        "  lines = f.read().replace('오레ㄴ지' , '오렌지') \n",
        "  #앞으로 lines는 target_path_shopA파일의 오타를 수정한 문자열을 가리킴\n",
        "lines\n",
        "\n",
        "# 오타가 수정된 문자열을 파일로 저장하는 코드를 작성하라.\n",
        "with target_path_shopA.open(mode = 'w' , encoding = 'utf-8') as f:\n",
        "  f.write(lines)"
      ],
      "metadata": {
        "id": "PrqhdJlqSubY"
      },
      "execution_count": null,
      "outputs": []
    },
    {
      "cell_type": "code",
      "source": [
        "def myWget(url):\n",
        "    filename = url.split(\"/\")[-1]  # 파일 이름 추출\n",
        "    data_path = Path.cwd() / \"data\"\n",
        "    target_path = data_path / filename\n",
        "    if not target_path.exists():  # 파일이 존재하지 않으면 다운로드\n",
        "        urlretrieve(url, target_path)\n",
        "    return target_path, filename\n",
        "\n",
        "\n",
        "# 새로운 함수 myWget"
      ],
      "metadata": {
        "id": "4HgWfEnCTRtu"
      },
      "execution_count": null,
      "outputs": []
    },
    {
      "cell_type": "code",
      "source": [
        "import os\n",
        "os.getcwd() 현재경로\n"
      ],
      "metadata": {
        "id": "9pSbjEUH2uzz",
        "outputId": "862a5ca9-44db-4361-ebd6-7430c9742f26",
        "colab": {
          "base_uri": "https://localhost:8080/",
          "height": 35
        }
      },
      "execution_count": null,
      "outputs": [
        {
          "output_type": "execute_result",
          "data": {
            "text/plain": [
              "'/content'"
            ],
            "application/vnd.google.colaboratory.intrinsic+json": {
              "type": "string"
            }
          },
          "metadata": {},
          "execution_count": 40
        }
      ]
    },
    {
      "cell_type": "code",
      "execution_count": null,
      "metadata": {
        "colab": {
          "base_uri": "https://localhost:8080/"
        },
        "id": "88mjQ9cRNZ2W",
        "outputId": "047b97f4-603a-4d65-e5e2-d5ce771cc471"
      },
      "outputs": [
        {
          "output_type": "stream",
          "name": "stdout",
          "text": [
            "{'우유': 2540, '계란': 7480, '생수': 980, '짜장라면': 3220, '두부': 1450, '콩나물': 1680, '김': 5480, '닭고기': 5980, '식빵': 2480, '바나나': 4980, '오렌지': 990, '카레': 2480, '만두': 6980, '어묵': 7980, '참치': 11880, '김치': 7980, '간장': 10800}\n"
          ]
        },
        {
          "output_type": "execute_result",
          "data": {
            "text/plain": [
              "{'우유': 2540,\n",
              " '계란': 7480,\n",
              " '생수': 980,\n",
              " '짜장라면': 3220,\n",
              " '두부': 1450,\n",
              " '콩나물': 1680,\n",
              " '김': 5480,\n",
              " '닭고기': 5980,\n",
              " '식빵': 2480,\n",
              " '바나나': 4980,\n",
              " '오렌지': 990,\n",
              " '카레': 2480,\n",
              " '만두': 6980,\n",
              " '어묵': 7980,\n",
              " '참치': 11880,\n",
              " '김치': 7980,\n",
              " '간장': 10800}"
            ]
          },
          "metadata": {},
          "execution_count": 18
        }
      ],
      "source": [
        "# 아래 코드를 완성하라. \n",
        "\n",
        "def shopping(shop_file):\n",
        "  \n",
        "    shop_dict = {} # 생성할 사전 객체\n",
        "    target_path_shopping = myWget(shop_file)[0]\n",
        "# target_path_shopping은 앞으로 다운로드 대상의 파일 경로를 가리킴.\n",
        "\n",
        "# 그런데, 기존 myWget함수를 사용하면 이미 다운로드된 파일도 URL에서 다시 새로 다운하여\n",
        "# 오타가 수정되지 않은 기존의 'shopA'를 가리키게 됨\n",
        "\n",
        "# 따라서 이미 다운로드된 파일이 있는 경우에는 다운로드를 생략하고 파일의 경로를 가리키는\n",
        "# 새로운 함수를 myWget로 다시 정의함\n",
        "\n",
        "\n",
        "    with target_path_shopping.open( mode = 'r', encoding = 'utf-8') as f: \n",
        "      for i in f:\n",
        "        if i.strip():\n",
        "          name, price = i.strip().split()\n",
        "          if price != '가격':\n",
        "            shop_dict[name] = price\n",
        "    \n",
        "    for key in shop_dict:  \n",
        "        if key != '#쇼핑몰':        #키값이 \"쇼핑몰\"이 아닐경우\n",
        "            shop_dict[key] = int(shop_dict[key].replace('원', ''))\n",
        "# 사전shop_dict의 키가 가리키는 값은 , 앞으로 '원'을 빼고 정수형태로 바뀐 값을 가리킴\n",
        "    del shop_dict['#쇼핑몰']\n",
        "\n",
        "\n",
        "    return shop_dict\n",
        "\n",
        "print(shopping(\"shopA.txt\")) #프린트 실행시 한줄로 출력됨\n",
        "\n",
        "shopping(\"shopA.txt\")# shopping함수 실행시 여러줄로 출력됨"
      ]
    },
    {
      "cell_type": "markdown",
      "metadata": {
        "id": "RQwetwntWyIH"
      },
      "source": [
        "**문제 5**"
      ]
    },
    {
      "cell_type": "markdown",
      "metadata": {
        "id": "HjYVtYpwB5C2"
      },
      "source": [
        "쇼핑 리스트와 상품을 인자로 지정하면 상품의 가격을 반환하는 함수 `item_price()` 를 구현하라.\n",
        "\n",
        "힌트: `shopping()` 함수를 이용한다."
      ]
    },
    {
      "cell_type": "code",
      "source": [
        "type(shopping(\"shopA.txt\")) #함수 shopping의 반환값은 dict(사전)임\n",
        "shopping(\"shopA.txt\")['우유'] #키가 가리키는 값\n",
        "\n",
        "'''\n",
        "원하는 것은 쇼핑 리스트(사전. 즉, shopping의 반환값)에서\n",
        "상품(쇼핑함수 반환값의 키)를 입력하면\n",
        "가격(키가 가리키는 값)을 반환하는 것임\n",
        "'''"
      ],
      "metadata": {
        "colab": {
          "base_uri": "https://localhost:8080/",
          "height": 35
        },
        "id": "4PlopNgM5KIH",
        "outputId": "4288c51b-d5b1-4358-d4fb-0b2d1d45c4ac"
      },
      "execution_count": null,
      "outputs": [
        {
          "output_type": "execute_result",
          "data": {
            "text/plain": [
              "'\\n원하는 것은 쇼핑 리스트(사전. 즉, shopping의 반환값)에서\\n상품(쇼핑함수 반환값의 키)를 입력하면\\n가격(키가 가리키는 값)을 반환하는 것임\\n'"
            ],
            "application/vnd.google.colaboratory.intrinsic+json": {
              "type": "string"
            }
          },
          "metadata": {},
          "execution_count": 19
        }
      ]
    },
    {
      "cell_type": "code",
      "execution_count": null,
      "metadata": {
        "colab": {
          "base_uri": "https://localhost:8080/"
        },
        "id": "WOsM3ngUOuAe",
        "outputId": "471dc9b8-b3a3-47ed-fc00-7a44fc673de5"
      },
      "outputs": [
        {
          "output_type": "stream",
          "name": "stdout",
          "text": [
            "7980\n"
          ]
        },
        {
          "output_type": "execute_result",
          "data": {
            "text/plain": [
              "int"
            ]
          },
          "metadata": {},
          "execution_count": 20
        }
      ],
      "source": [
        "# 함수를 완성하라.\n",
        "\n",
        "def item_price(shop_file, item):\n",
        "    return shopping(shop_file)[item] \n",
        "    # 쇼핑함수의 반환값인 사전 중에서, item이라는 키가 가리키는 값 \n",
        "\n",
        "\n",
        "print(item_price(\"shopA.txt\", '김치'))\n",
        "\n",
        "type(item_price(\"shopA.txt\", '김치'))#반환값은 정수임"
      ]
    },
    {
      "cell_type": "markdown",
      "metadata": {
        "id": "MDfWfEjyWyIK"
      },
      "source": [
        "**문제 6**"
      ]
    },
    {
      "cell_type": "markdown",
      "metadata": {
        "id": "pkua4TgcEgut"
      },
      "source": [
        "`shopB.txt` 파일은 쇼핑몰B에서 판매하는 상품의 가격을 담고 있으며,\n",
        "`shopA.txt` 파일과 동일한 방식으로 다운로드할 수 있다."
      ]
    },
    {
      "cell_type": "code",
      "source": [
        "def myWget(filename):\n",
        "    # 다운로드 대상 파일 경로\n",
        "    file_url = base_url + filename\n",
        "\n",
        "    # 저장 경로와 파일명\n",
        "    target_path = data_path / filename\n",
        "\n",
        "    return urlretrieve(file_url, target_path)\n",
        "#원래 myWget"
      ],
      "metadata": {
        "id": "HHjxW9vnSlsa"
      },
      "execution_count": null,
      "outputs": []
    },
    {
      "cell_type": "code",
      "execution_count": null,
      "metadata": {
        "id": "O34MO-KhWyIL",
        "outputId": "d4e1c132-3156-4f78-dd99-91977272a885",
        "colab": {
          "base_uri": "https://localhost:8080/"
        }
      },
      "outputs": [
        {
          "output_type": "execute_result",
          "data": {
            "text/plain": [
              "(PosixPath('data/shopB.txt'), <http.client.HTTPMessage at 0x7f7aef640040>)"
            ]
          },
          "metadata": {},
          "execution_count": 22
        }
      ],
      "source": [
        "myWget(\"shopB.txt\")"
      ]
    },
    {
      "cell_type": "code",
      "source": [
        "target_path_shopB = data_path / \"shopB.txt\""
      ],
      "metadata": {
        "id": "IDmD498r-R4B"
      },
      "execution_count": null,
      "outputs": []
    },
    {
      "cell_type": "code",
      "source": [
        "# 쇼핑몰B내용 확인용\n",
        "with target_path_shopB.open(mode = 'r' , encoding = 'utf-8') as f:\n",
        "  for i in f:\n",
        "    print(i.strip())\n",
        "with target_path_shopA.open(mode = 'r' , encoding = 'utf-8') as f:\n",
        "  for i in f:\n",
        "    print(i.strip())"
      ],
      "metadata": {
        "colab": {
          "base_uri": "https://localhost:8080/"
        },
        "id": "0nMppAyg93Cm",
        "outputId": "ee1080c6-eca2-42c1-a3c3-445a2ac18851"
      },
      "execution_count": null,
      "outputs": [
        {
          "output_type": "stream",
          "name": "stdout",
          "text": [
            "#쇼핑몰 B\n",
            "\n",
            "우유 2270원\n",
            "계란 7520원\n",
            "생수 1010원\n",
            "짜장라면 3210원\n",
            "두부 1150원\n",
            "콩나물 1980원\n",
            "김 5290원\n",
            "닭고기 6000원\n",
            "식빵 1990원\n",
            "바나나 4990원\n",
            "오렌지 1050원\n",
            "카레 2400원\n",
            "만두 7400원\n",
            "어묵 6980원\n",
            "참치 11580원\n",
            "김치 8480원\n",
            "간장 9900원\n",
            "#쇼핑몰 A\n",
            "\n",
            "우유 2540원\n",
            "계란 7480원\n",
            "생수 980원\n",
            "짜장라면 3220원\n",
            "두부 1450원\n",
            "콩나물 1680원\n",
            "김 5480원\n",
            "닭고기 5980원\n",
            "식빵 2480원\n",
            "바나나 4980원\n",
            "오렌지 990원\n",
            "카레 2480원\n",
            "만두 6980원\n",
            "어묵 7980원\n",
            "참치 11880원\n",
            "김치 7980원\n",
            "간장 10800원\n"
          ]
        }
      ]
    },
    {
      "cell_type": "markdown",
      "metadata": {
        "id": "vIQ8WlxdWyIL"
      },
      "source": [
        "사용자가 상품을 입력하면, 쇼핑몰A와 쇼핑몰B 중 어느 쇼핑몰에서 구입하는 것이 얼마나 저렴한지를 보여주는\n",
        "함수 `price_comparison()`를 작성하라."
      ]
    },
    {
      "cell_type": "code",
      "source": [
        "\"\"\"\n",
        "아이디어는 두 사전(쇼핑몰 A와 B)의 반환값을 비교하는 것임\n",
        "즉 item_price함수를 두 쇼핑몰에 적용하고 그 반환값을 비교\n",
        "\"\"\""
      ],
      "metadata": {
        "id": "Z_5674mm8b_t",
        "colab": {
          "base_uri": "https://localhost:8080/",
          "height": 35
        },
        "outputId": "787db2e0-83c9-41f4-8744-2f665b716cb2"
      },
      "execution_count": null,
      "outputs": [
        {
          "output_type": "execute_result",
          "data": {
            "text/plain": [
              "'\\n아이디어는 두 사전(쇼핑몰 A와 B)의 반환값을 비교하는 것임\\n즉 item_price함수를 두 쇼핑몰에 적용하고 그 반환값을 비교\\n'"
            ],
            "application/vnd.google.colaboratory.intrinsic+json": {
              "type": "string"
            }
          },
          "metadata": {},
          "execution_count": 25
        }
      ]
    },
    {
      "cell_type": "code",
      "source": [
        "print(item_price(\"shopA.txt\", '김치')) #쇼핑몰 A의 김치가격\n",
        "item_price(\"shopB.txt\", '김치')        #B의 김치가격"
      ],
      "metadata": {
        "colab": {
          "base_uri": "https://localhost:8080/"
        },
        "id": "3wapPFpN9tBT",
        "outputId": "a030ce61-6493-45f3-b590-cef22718cffd"
      },
      "execution_count": null,
      "outputs": [
        {
          "output_type": "stream",
          "name": "stdout",
          "text": [
            "7980\n"
          ]
        },
        {
          "output_type": "execute_result",
          "data": {
            "text/plain": [
              "8480"
            ]
          },
          "metadata": {},
          "execution_count": 26
        }
      ]
    },
    {
      "cell_type": "code",
      "execution_count": null,
      "metadata": {
        "id": "q9WOU5F1WyIM",
        "outputId": "942365e2-c737-4345-b946-e7418d48815b",
        "colab": {
          "base_uri": "https://localhost:8080/"
        }
      },
      "outputs": [
        {
          "output_type": "stream",
          "name": "stdout",
          "text": [
            "쇼핑몰A가 쇼핑몰B보다 500원 저렴합니다.\n"
          ]
        }
      ],
      "source": [
        "# 코드를 완성하라.\n",
        "\n",
        "def price_comparison(item):\n",
        "    pirce_shopA = item_price(\"shopA.txt\", item)\n",
        "    pirce_shopB = item_price(\"shopB.txt\", item)\n",
        "    \n",
        "    if pirce_shopA > pirce_shopB :\n",
        "      return f\"쇼핑몰B가 쇼핑몰A보다 {pirce_shopA - pirce_shopB}원 저렴합니다.\"\n",
        "    elif pirce_shopA < pirce_shopB :\n",
        "      return f\"쇼핑몰A가 쇼핑몰B보다 {pirce_shopB - pirce_shopA}원 저렴합니다.\"\n",
        "    else:\n",
        "      return f\"쇼핑몰 A와 B는 이 상품에 대해 가격차이가 없습니다.\"\n",
        "\n",
        "print(price_comparison('김치')) #쇼핑몰A의 김치가격은 7980 B는 8480. 즉, A가 B보다 500원 저렴"
      ]
    },
    {
      "cell_type": "markdown",
      "metadata": {
        "id": "xxWdTIiQWyIM"
      },
      "source": [
        "**다이빙 기록 관련**"
      ]
    },
    {
      "cell_type": "markdown",
      "metadata": {
        "id": "0XDAlyj0WyIN"
      },
      "source": [
        "**문제 7**"
      ]
    },
    {
      "cell_type": "markdown",
      "metadata": {
        "id": "ww1Wo1a7WyIN"
      },
      "source": [
        "[5미터 다이빙 기록 에서 등수를 확인하는 작업](https://codingalzi.github.io/pybook/files.html#sec-exp-diving-5m)과 \n",
        "동일한 작업을 10미터 다이빙 기록에 대해 진행하라."
      ]
    },
    {
      "cell_type": "code",
      "source": [
        "#준비코드\n",
        "myWget(\"results10m.txt\") #10m 다이빙 기록 파일\n",
        "target_path_10m = data_path / \"results10m.txt\""
      ],
      "metadata": {
        "id": "T7kJ5mgKIIrb"
      },
      "execution_count": null,
      "outputs": []
    },
    {
      "cell_type": "code",
      "execution_count": null,
      "metadata": {
        "id": "5p-rRQ_hWyIN",
        "colab": {
          "base_uri": "https://localhost:8080/"
        },
        "outputId": "53711661-1473-47b8-957d-d39ac1969cff"
      },
      "outputs": [
        {
          "output_type": "execute_result",
          "data": {
            "text/plain": [
              "[('서길석', 9.31),\n",
              " ('권준기', 9.11),\n",
              " ('차승연', 9.11),\n",
              " ('표방호', 8.75),\n",
              " ('이준용', 8.71),\n",
              " ('마동탁', 8.65),\n",
              " ('한석준', 8.39),\n",
              " ('김세윤', 8.35),\n",
              " ('이차승', 7.33),\n",
              " ('나진서', 7.12)]"
            ]
          },
          "metadata": {},
          "execution_count": 29
        }
      ],
      "source": [
        "# 코드를 작성하라.\n",
        "f = open(target_path_10m, encoding = \"utf-8\")\n",
        "scores_10m = {}\n",
        "\n",
        "with target_path_10m.open(mode = 'r', encoding = 'utf-8') as f:\n",
        "  for i in f:\n",
        "    name,s_10m = i.split()\n",
        "    try:\n",
        "      scores_10m[name] = float(s_10m)\n",
        "    except:\n",
        "      continue\n",
        "\n",
        "\n",
        "\n",
        "sorted_scores_10m = sorted(scores_10m.items(), key= lambda item: item[1], reverse=True)\n",
        "sorted_scores_10m "
      ]
    },
    {
      "cell_type": "code",
      "source": [
        "print('10미터 다이빙 결과')\n",
        "\n",
        "count = 1\n",
        "for item in sorted_scores_10m:\n",
        "  print(f'{count}등: {item[0]} {item[1]}')\n",
        "  count = count+1\n"
      ],
      "metadata": {
        "colab": {
          "base_uri": "https://localhost:8080/"
        },
        "id": "5QSrzFBaPem2",
        "outputId": "241e564c-c520-4186-c140-f1947fcf8323"
      },
      "execution_count": null,
      "outputs": [
        {
          "output_type": "stream",
          "name": "stdout",
          "text": [
            "10미터 다이빙 결과\n",
            "1등: 서길석 9.31\n",
            "2등: 권준기 9.11\n",
            "3등: 차승연 9.11\n",
            "4등: 표방호 8.75\n",
            "5등: 이준용 8.71\n",
            "6등: 마동탁 8.65\n",
            "7등: 한석준 8.39\n",
            "8등: 김세윤 8.35\n",
            "9등: 이차승 7.33\n",
            "10등: 나진서 7.12\n"
          ]
        }
      ]
    },
    {
      "cell_type": "markdown",
      "metadata": {
        "id": "N686ZuGIWyIO"
      },
      "source": [
        "**문제 8**"
      ]
    },
    {
      "cell_type": "markdown",
      "metadata": {
        "id": "wju9q8OXWyIO"
      },
      "source": [
        "5미터 다이빙 기록과 10미터 다이빙 기록의 합에 대해 등수를 확인하는 코드를 작성하라."
      ]
    },
    {
      "cell_type": "code",
      "source": [
        "#준비코드\n",
        "myWget(\"results5m.txt\") #5m 다이빙 기록 파일\n",
        "target_path_5m = data_path / \"results5m.txt\""
      ],
      "metadata": {
        "id": "DoWDLlcnJNyI"
      },
      "execution_count": null,
      "outputs": []
    },
    {
      "cell_type": "code",
      "source": [
        "# 5미터 다이빙 기록이 들어있는 사전 만들기\n",
        "\n",
        "with target_path_5m.open(mode = \"r\", encoding='utf-8') as f:\n",
        "  results_5m_dict = {}\n",
        "  for i in f:\n",
        "    name, score = i.strip().split()\n",
        "    if score != \"점수\":  \n",
        "      results_5m_dict[name] = score\n",
        "\n",
        "results_5m_dict"
      ],
      "metadata": {
        "colab": {
          "base_uri": "https://localhost:8080/"
        },
        "id": "Qs5ku9FOXAQE",
        "outputId": "bb1a5380-c09c-426e-963e-1dc7e3028edd"
      },
      "execution_count": null,
      "outputs": [
        {
          "output_type": "execute_result",
          "data": {
            "text/plain": [
              "{'권준기': '7.13',\n",
              " '김세윤': '8.55',\n",
              " '나진서': '9.02',\n",
              " '마동탁': '8.35',\n",
              " '서길석': '7.86',\n",
              " '이준용': '8.17',\n",
              " '이차승': '9.33',\n",
              " '차승연': '7.11',\n",
              " '표방호': '8.57',\n",
              " '한석준': '8.93'}"
            ]
          },
          "metadata": {},
          "execution_count": 32
        }
      ]
    },
    {
      "cell_type": "code",
      "source": [
        "# 10미터 다이빙 기록이 들어있는 사전 만들기\n",
        "\n",
        "with target_path_10m.open(mode = \"r\", encoding='utf-8') as f:\n",
        "  results_10m_dict = {}\n",
        "  for i in f:\n",
        "    name, score = i.strip().split()\n",
        "    if score != \"점수\":\n",
        "      results_10m_dict[name] = score\n",
        "\n",
        "results_10m_dict"
      ],
      "metadata": {
        "colab": {
          "base_uri": "https://localhost:8080/"
        },
        "id": "U-01GnGzW_9V",
        "outputId": "6ff797c8-21eb-4140-ecb9-1230b3d7356b"
      },
      "execution_count": null,
      "outputs": [
        {
          "output_type": "execute_result",
          "data": {
            "text/plain": [
              "{'권준기': '9.11',\n",
              " '김세윤': '8.35',\n",
              " '나진서': '7.12',\n",
              " '마동탁': '8.65',\n",
              " '서길석': '9.31',\n",
              " '이준용': '8.71',\n",
              " '이차승': '7.33',\n",
              " '차승연': '9.11',\n",
              " '표방호': '8.75',\n",
              " '한석준': '8.39'}"
            ]
          },
          "metadata": {},
          "execution_count": 33
        }
      ]
    },
    {
      "cell_type": "code",
      "source": [
        "# 5미터와 10미터 다이빙 기록이 합쳐진 사전 만들기\n",
        "\n",
        "diving_results_dict = {}\n",
        "\n",
        "for name in results_5m_dict:\n",
        "  score_5m = results_5m_dict[name]\n",
        "  score_10m = results_10m_dict[name]\n",
        "  diving_results_dict[name] = float(score_5m) + float(score_10m)\n",
        "\n",
        "\n",
        "sorted_diving_results_dict = sorted(diving_results_dict.items(), key= lambda item: item[1], reverse=True)\n",
        "sorted_diving_results_dict"
      ],
      "metadata": {
        "id": "H86c7V58Swhb",
        "colab": {
          "base_uri": "https://localhost:8080/"
        },
        "outputId": "7badbce1-2b8b-433e-8e9f-2f8bd8d09ca6"
      },
      "execution_count": null,
      "outputs": [
        {
          "output_type": "execute_result",
          "data": {
            "text/plain": [
              "[('표방호', 17.32),\n",
              " ('한석준', 17.32),\n",
              " ('서길석', 17.17),\n",
              " ('마동탁', 17.0),\n",
              " ('김세윤', 16.9),\n",
              " ('이준용', 16.880000000000003),\n",
              " ('이차승', 16.66),\n",
              " ('권준기', 16.24),\n",
              " ('차승연', 16.22),\n",
              " ('나진서', 16.14)]"
            ]
          },
          "metadata": {},
          "execution_count": 34
        }
      ]
    },
    {
      "cell_type": "code",
      "execution_count": null,
      "metadata": {
        "id": "4HHc4JRIWyIO",
        "colab": {
          "base_uri": "https://localhost:8080/"
        },
        "outputId": "18251f02-c227-4c67-a5f7-3a64411ea0d7"
      },
      "outputs": [
        {
          "output_type": "stream",
          "name": "stdout",
          "text": [
            "5미터,10미터 다이빙 종합결과\n",
            "1등: 표방호 17.32\n",
            "2등: 한석준 17.32\n",
            "3등: 서길석 17.17\n",
            "4등: 마동탁 17.0\n",
            "5등: 김세윤 16.9\n",
            "6등: 이준용 16.880000000000003\n",
            "7등: 이차승 16.66\n",
            "8등: 권준기 16.24\n",
            "9등: 차승연 16.22\n",
            "10등: 나진서 16.14\n"
          ]
        }
      ],
      "source": [
        "# 코드를 작성하라.\n",
        "\n",
        "print(\"5미터,10미터 다이빙 종합결과\")\n",
        "\n",
        "ranking = 1\n",
        "for i in sorted_diving_results_dict:\n",
        "    print(f\"{ranking}등: {i[0]} {i[1]}\")\n",
        "    ranking = ranking + 1\n",
        "\n",
        "\n",
        "  "
      ]
    },
    {
      "cell_type": "code",
      "source": [],
      "metadata": {
        "id": "YzQSEKVyhXaZ"
      },
      "execution_count": null,
      "outputs": []
    }
  ],
  "metadata": {
    "colab": {
      "provenance": []
    },
    "kernelspec": {
      "display_name": "Python 3 (ipykernel)",
      "language": "python",
      "name": "python3"
    },
    "language_info": {
      "codemirror_mode": {
        "name": "ipython",
        "version": 3
      },
      "file_extension": ".py",
      "mimetype": "text/x-python",
      "name": "python",
      "nbconvert_exporter": "python",
      "pygments_lexer": "ipython3",
      "version": "3.9.13"
    }
  },
  "nbformat": 4,
  "nbformat_minor": 0
}